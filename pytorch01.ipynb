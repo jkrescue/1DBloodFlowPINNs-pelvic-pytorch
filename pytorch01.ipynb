{
  "nbformat": 4,
  "nbformat_minor": 0,
  "metadata": {
    "colab": {
      "provenance": [],
      "authorship_tag": "ABX9TyP1n38yckOUFWL2JoM5RjHo",
      "include_colab_link": true
    },
    "kernelspec": {
      "name": "python3",
      "display_name": "Python 3"
    },
    "language_info": {
      "name": "python"
    }
  },
  "cells": [
    {
      "cell_type": "markdown",
      "metadata": {
        "id": "view-in-github",
        "colab_type": "text"
      },
      "source": [
        "<a href=\"https://colab.research.google.com/github/jkrescue/1DBloodFlowPINNs-pelvic-pytorch/blob/master/pytorch01.ipynb\" target=\"_parent\"><img src=\"https://colab.research.google.com/assets/colab-badge.svg\" alt=\"Open In Colab\"/></a>"
      ]
    },
    {
      "cell_type": "code",
      "execution_count": 3,
      "metadata": {
        "colab": {
          "base_uri": "https://localhost:8080/"
        },
        "id": "oT2_upFaw-E0",
        "outputId": "814072d8-6e31-4ff0-bc1d-1b2a660a4997"
      },
      "outputs": [
        {
          "output_type": "stream",
          "name": "stdout",
          "text": [
            "predict(before training) 4 4.0\n",
            "\t grad: 1 2 -2.0\n",
            "\t grad: 2 4 -7.84\n",
            "\t grad: 3 6 -16.23\n",
            "\t grad: 4 8 -23.66\n",
            "progress: 0 w= 1.5 loss= 4.04\n",
            "\t grad: 1 2 -1.01\n",
            "\t grad: 2 4 -3.94\n",
            "\t grad: 3 6 -8.16\n",
            "\t grad: 4 8 -11.89\n",
            "progress: 1 w= 1.75 loss= 1.02\n",
            "\t grad: 1 2 -0.51\n",
            "\t grad: 2 4 -1.98\n",
            "\t grad: 3 6 -4.1\n",
            "\t grad: 4 8 -5.98\n",
            "progress: 2 w= 1.87 loss= 0.26\n",
            "\t grad: 1 2 -0.25\n",
            "\t grad: 2 4 -1.0\n",
            "\t grad: 3 6 -2.06\n",
            "\t grad: 4 8 -3.01\n",
            "progress: 3 w= 1.94 loss= 0.07\n",
            "\t grad: 1 2 -0.13\n",
            "\t grad: 2 4 -0.5\n",
            "\t grad: 3 6 -1.04\n",
            "\t grad: 4 8 -1.51\n",
            "progress: 4 w= 1.97 loss= 0.02\n",
            "\t grad: 1 2 -0.06\n",
            "\t grad: 2 4 -0.25\n",
            "\t grad: 3 6 -0.52\n",
            "\t grad: 4 8 -0.76\n",
            "progress: 5 w= 1.98 loss= 0.0\n",
            "\t grad: 1 2 -0.03\n",
            "\t grad: 2 4 -0.13\n",
            "\t grad: 3 6 -0.26\n",
            "\t grad: 4 8 -0.38\n",
            "progress: 6 w= 1.99 loss= 0.0\n",
            "\t grad: 1 2 -0.02\n",
            "\t grad: 2 4 -0.06\n",
            "\t grad: 3 6 -0.13\n",
            "\t grad: 4 8 -0.19\n",
            "progress: 7 w= 2.0 loss= 0.0\n",
            "\t grad: 1 2 -0.01\n",
            "\t grad: 2 4 -0.03\n",
            "\t grad: 3 6 -0.07\n",
            "\t grad: 4 8 -0.1\n",
            "progress: 8 w= 2.0 loss= 0.0\n",
            "\t grad: 1 2 -0.0\n",
            "\t grad: 2 4 -0.02\n",
            "\t grad: 3 6 -0.03\n",
            "\t grad: 4 8 -0.05\n",
            "progress: 9 w= 2.0 loss= 0.0\n",
            "predict (after training) 4 hours 7.995874974167554\n"
          ]
        }
      ],
      "source": [
        "x_data = [1, 2, 3, 4]\n",
        "y_data = [2, 4, 6, 8]\n",
        "\n",
        "w = 1.0\n",
        "\n",
        "def forward(x):\n",
        "  return x * w\n",
        "\n",
        "def loss(x,y):\n",
        "  y_pred = forward(x)\n",
        "  return (y_pred - y) * (y_pred - y)\n",
        "\n",
        "def gradient(x,y):  # dloss/dw\n",
        "  return 2 * x * (x * w - y)\n",
        "\n",
        "# before training\n",
        "print('predict(before training)', 4, forward(4))\n",
        "\n",
        "# training loop\n",
        "for epoch in range(10):\n",
        "  for x_val, y_val in zip(x_data, y_data):\n",
        "    grad = gradient(x_val, y_val)\n",
        "    w = w - 0.01 * grad\n",
        "    print('\\t grad:', x_val, y_val, round(grad, 2))\n",
        "    l = loss(x_val, y_val)\n",
        "  \n",
        "  print('progress:', epoch, 'w=', round(w, 2), 'loss=', round(l ,2))\n",
        "\n",
        "# after training\n",
        "print('predict (after training)', '4 hours', forward(4))"
      ]
    },
    {
      "cell_type": "code",
      "source": [],
      "metadata": {
        "id": "QqMrtMHNxayt"
      },
      "execution_count": null,
      "outputs": []
    }
  ]
}